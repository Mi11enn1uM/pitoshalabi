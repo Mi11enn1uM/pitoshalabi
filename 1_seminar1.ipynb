{
  "cells": [
    {
      "cell_type": "markdown",
      "metadata": {
        "id": "q7PsF5hX70Ob"
      },
      "source": [
        "*Курсив*### Задание 0 (вычислительное)\n",
        "\n",
        "Посчитайте:\n",
        "\n",
        "* $log(25)$, $log(exp(3))$, $log_{10}1000$\n",
        "* $\\pi^3$, $123^4$ \n",
        "* $\\sqrt{459}$"
      ]
    },
    {
      "cell_type": "code",
      "source": [
        "  import math \n",
        "  x = math.log(25) \n",
        "  print (\"log(25)=\",x) \n",
        "  y = math.exp(3) \n",
        "  y = math.log(y) \n",
        "  print (\"log(exp(3))=\",y) \n",
        "  z = math.log10(1000) \n",
        "  print (\"log10(1000)=\",z) \n",
        "  p = math.pi \n",
        "  p = math.pow(p, 3) \n",
        "  print (\"π^3 =\",p) \n",
        "  a = math.pow(123, 4) \n",
        "  print (\"123^4 =\",a) \n",
        "  b = math.sqrt(459) \n",
        "  print (\"v459 =\",b)"
      ],
      "metadata": {
        "colab": {
          "base_uri": "https://localhost:8080/"
        },
        "id": "j-mfSOxB_VaT",
        "outputId": "94316e3f-c765-4665-f13d-886de99bdc44"
      },
      "execution_count": 20,
      "outputs": [
        {
          "output_type": "stream",
          "name": "stdout",
          "text": [
            "log(25)= 3.2188758248682006\n",
            "log(exp(3))= 3.0\n",
            "log10(1000)= 3.0\n",
            "π^3 = 31.006276680299816\n",
            "123^4 = 228886641.0\n",
            "v459 = 21.42428528562855\n"
          ]
        }
      ]
    },
    {
      "cell_type": "markdown",
      "metadata": {
        "id": "mOTJv2Ok70Oh"
      },
      "source": [
        "### Задание 1 (стартовое)\n",
        "\n",
        "В переменных `a` и `b` хранятся некоторые числа. Напишите код, который бы менял значения переменных местами. Создавать новые переменные можно. \n",
        "\n",
        "**Пример:**"
      ]
    },
    {
      "cell_type": "code",
      "execution_count": 1,
      "metadata": {
        "id": "iOhOXyl-70Oi"
      },
      "outputs": [],
      "source": [
        "# до\n",
        "a = 2\n",
        "b = 5"
      ]
    },
    {
      "cell_type": "code",
      "execution_count": 7,
      "metadata": {
        "id": "CGIVTzVz70Ok"
      },
      "outputs": [],
      "source": [
        "a, b = b, a"
      ]
    },
    {
      "cell_type": "code",
      "execution_count": 8,
      "metadata": {
        "colab": {
          "base_uri": "https://localhost:8080/"
        },
        "id": "EoMLHMOM70Ok",
        "outputId": "0be9d998-62d4-4e0d-ddb8-e836444f016c"
      },
      "outputs": [
        {
          "output_type": "stream",
          "name": "stdout",
          "text": [
            "5\n",
            "2\n"
          ]
        }
      ],
      "source": [
        "# после\n",
        "print(a)\n",
        "print(b)"
      ]
    },
    {
      "cell_type": "markdown",
      "metadata": {
        "id": "NAcDsEZm70Ok"
      },
      "source": [
        "### Задание 2 (арифметическое)\n",
        "\n",
        "В переменных `a`, `b`, `c` хранятся какие-то числа. Напишите программу, которая считает их среднее арифметическое."
      ]
    },
    {
      "cell_type": "code",
      "execution_count": null,
      "metadata": {
        "id": "dn5bjfmv70Ol"
      },
      "outputs": [],
      "source": [
        "a = 1\n",
        "b = 2\n",
        "c = 3"
      ]
    },
    {
      "cell_type": "code",
      "execution_count": 48,
      "metadata": {
        "colab": {
          "base_uri": "https://localhost:8080/"
        },
        "id": "ebgR0pTz70Ol",
        "outputId": "4dfa71b6-d1db-4e1f-f126-9fc08f32b9d1"
      },
      "outputs": [
        {
          "output_type": "stream",
          "name": "stdout",
          "text": [
            " 1 1\n",
            " 2 2\n",
            " 3 3\n",
            "Среднее арифметическое этих чисел =  2.0\n"
          ]
        }
      ],
      "source": [
        "a = int(input(\" 1 \"))\n",
        "b = int(input(\" 2 \"))\n",
        "c = int(input(\" 3 \"))\n",
        "print(\"Среднее арифметическое этих чисел = \", (a + b + c) / 3)"
      ]
    },
    {
      "cell_type": "markdown",
      "metadata": {
        "id": "xrBPMrCO70Om"
      },
      "source": [
        "### Задание 3 (экономическое)\n",
        "\n",
        "Напишите программу, которая логарифмирует значение ВВП, которое хранится в переменной `gdp` и округляет результат до второго знака после запятой."
      ]
    },
    {
      "cell_type": "code",
      "source": [
        "import math\n",
        "gdp = 1483000000000\n",
        "x = math.log(gdp)\n",
        "x = round(x,2)\n",
        "print (\"log(ВВП)=\", x)"
      ],
      "metadata": {
        "colab": {
          "base_uri": "https://localhost:8080/"
        },
        "id": "N80_DGGEDgHl",
        "outputId": "91ae0ad1-46c3-4a3f-cc37-a0b7978295d4"
      },
      "execution_count": 24,
      "outputs": [
        {
          "output_type": "stream",
          "name": "stdout",
          "text": [
            "log(ВВП)= 28.03\n"
          ]
        }
      ]
    },
    {
      "cell_type": "markdown",
      "metadata": {
        "id": "lZop8rCH70Om"
      },
      "source": [
        "###  Задание 3 (финансовое)\n",
        "\n",
        "В переменной `salary` хранится значение заработной платы респондента в рублях (можете сами присвоить `salary` какое-нибудь значение).\n",
        "\n",
        "Напишите программу, которая выражает заработную плату респондента в тысячах рублей и\n",
        "\n",
        "a) просто выводит результат перевода в тысячи на экран;\n",
        "\n",
        "б) просто сохраняет результат в переменную `salary_th`;\n",
        "\n",
        "в) сохраняет результат в переменную `salary_th` и выводит результат на экран."
      ]
    },
    {
      "cell_type": "code",
      "source": [
        "salary = 50000\n",
        "#a\n",
        "print(salary/1000)\n",
        "#b\n",
        "salary_th = salary/1000\n",
        "#c\n",
        "salary_th = salary/1000\n",
        "print(\"зп в тыс. руб.\",salary_th)"
      ],
      "metadata": {
        "colab": {
          "base_uri": "https://localhost:8080/"
        },
        "id": "ld8mAOT-EVeD",
        "outputId": "3fe5035d-d5bc-4b0e-f575-000ab0535f75"
      },
      "execution_count": 30,
      "outputs": [
        {
          "output_type": "stream",
          "name": "stdout",
          "text": [
            "50.0\n",
            "зп в тыс. руб. 50.0\n"
          ]
        }
      ]
    },
    {
      "cell_type": "markdown",
      "metadata": {
        "id": "jJxqW_D370On"
      },
      "source": [
        "### Задание 4 (политологическое)\n",
        "\n",
        "В переменной `fh` хранится значение индекса политической свободы Freedom House, а в переменной `p`\n",
        "значение индекса Polity IV. Напишите программу, которая будет считать индекс Freedom:\n",
        "\n",
        "$Freedom = 0.4 \\cdot Freedom House + 0.6 \\cdot Polity IV$."
      ]
    },
    {
      "cell_type": "code",
      "source": [
        "fh = 20 \n",
        "p = 4\n",
        "f = 0.4*fh+0.6*p\n",
        "print(\"Freedom =\",f)"
      ],
      "metadata": {
        "colab": {
          "base_uri": "https://localhost:8080/"
        },
        "id": "UMkK7ZrSI_KI",
        "outputId": "95acc92c-8fd4-4167-c13a-a8bef1652eb2"
      },
      "execution_count": 53,
      "outputs": [
        {
          "output_type": "stream",
          "name": "stdout",
          "text": [
            "Freedom = 10.4\n"
          ]
        }
      ]
    },
    {
      "cell_type": "markdown",
      "metadata": {
        "id": "9mQTCcwG70On"
      },
      "source": [
        "### Задание 5 (налоговое)\n",
        "\n",
        "Напишите программу, которая запрашивает у пользователя с клавиатуры\n",
        "изначальное значение заработной платы в рублях и выводит на экран сообщение: \n",
        "\n",
        "    Ваша заработная плата с учетом подоходного налога: n рублей.\n",
        "\n",
        "где `n` ‒ значение заработной платы с учетом подоходного налога (налоговая ставка 13%).\n",
        "\n",
        "Подсказка: для ввода информации с клавиатуры используйте функцию `input()`. Не забудьте учесть, что результат, который вводится через `input()` является строкой, а не числом. Примеры использования `input()` и более подробное знакомство с вводом-выводом в Python – см. [здесь](https://nbviewer.jupyter.org/github/allatambov/Py-programming-3/blob/master/06-04/lecture-input-output.ipynb)."
      ]
    },
    {
      "cell_type": "code",
      "source": [
        "z = int(input(\"Укажите значение вашей ЗП в рублях:\"))\n",
        "z = z-(z*0.13)\n",
        "print(\"Ваша ЗП с учетом подоходного налога:\",z,\"рублей\")"
      ],
      "metadata": {
        "colab": {
          "base_uri": "https://localhost:8080/"
        },
        "id": "qYjd3rQ6MuI7",
        "outputId": "d12cd5d3-b848-4602-90a4-3904bad47199"
      },
      "execution_count": 55,
      "outputs": [
        {
          "output_type": "stream",
          "name": "stdout",
          "text": [
            "Укажите значение вашей ЗП в рублях:50000\n",
            "Ваша ЗП с учетом подоходного налога: 43500.0 рублей\n"
          ]
        }
      ]
    },
    {
      "cell_type": "markdown",
      "metadata": {
        "id": "KUxzSaK070Oo"
      },
      "source": [
        "### Задание 6 (весеннее)\n",
        "\n",
        "С приходом весны питон решил каждый день выползать погреться на солнышко. Однако он знал, что солнце весной довольно активное, и поэтому разработал такую схему: в первый день он греется одну минуту, а в каждый последующий день увеличивает время пребывания на солнце на 3 минуты. Напишите код, который позволит вычислять, сколько минут питон будет тратить на солнечные ванны в некоторый выбранный день.\n",
        "\n",
        "*Внимание:* ваш код должен выводить номер дня и число минут. Использовать циклы нельзя, в задании предполагается многократный запуск ячеек с кодом."
      ]
    },
    {
      "cell_type": "code",
      "source": [
        "a = int(input(\" Введите день \"))\n",
        "b = 3\n",
        "c = 1\n",
        "print(\"День:\" ,a, \"Минуты:\", c+b*(a-1))"
      ],
      "metadata": {
        "colab": {
          "base_uri": "https://localhost:8080/"
        },
        "id": "vpJ-7sHIG583",
        "outputId": "1d2e5594-de8e-4f69-ebbc-a0ff3305409c"
      },
      "execution_count": 58,
      "outputs": [
        {
          "output_type": "stream",
          "name": "stdout",
          "text": [
            " Введите день 3\n",
            "День: 3 Минуты: 7\n"
          ]
        }
      ]
    },
    {
      "cell_type": "markdown",
      "metadata": {
        "id": "qPW5z-UK70Oo"
      },
      "source": [
        "### Задание 7 (цифровое)\n",
        "\n",
        "Питон выполз на улицу погулять и решил поиграть: просил прохожих назвать какую-нибудь цифру (т.е. ввести ее с клавиатуры) и приписывал эту цифру к цифре, которую назвал предыдущий прохожий. Напишите код, который позволит определить, какое число получится после опроса 4 прохожих, если известно, что первый прохожий назвал цифру 5. \n",
        "Задача не подразумевает использование циклов; запускать код несколько раз / копировать ячейки можно.\n",
        "\n",
        "*Пример-пояснение:* первый назвал цифру 5, второй ‒ цифру 6, третий ‒ 3. Получили число 563.\n",
        "\n",
        "*Подсказка:* для склеивания строк (такая операция называется конкатенацией) в Python используется `+`:"
      ]
    },
    {
      "cell_type": "code",
      "source": [
        "a1 = '5'\n",
        "a2 = input(\" Назови число \")\n",
        "a3 = input(\" Назови число \")\n",
        "a4 = input(\" Назови число \")\n",
        "print(\"Получаем:\",a1+a2+a3+a4)"
      ],
      "metadata": {
        "colab": {
          "base_uri": "https://localhost:8080/"
        },
        "id": "ih71wRkMNzx1",
        "outputId": "7ad95204-4b64-48fd-aedc-b168814e0fdc"
      },
      "execution_count": 61,
      "outputs": [
        {
          "output_type": "stream",
          "name": "stdout",
          "text": [
            " Назови число 2\n",
            " Назови число \n",
            " Назови число 4\n",
            "Получаем: 524\n"
          ]
        }
      ]
    },
    {
      "cell_type": "code",
      "execution_count": 59,
      "metadata": {
        "colab": {
          "base_uri": "https://localhost:8080/"
        },
        "id": "TJzhBTnZ70Op",
        "outputId": "24616f6d-1094-4e76-dd34-db690eb6ec41"
      },
      "outputs": [
        {
          "output_type": "stream",
          "name": "stdout",
          "text": [
            "password\n"
          ]
        }
      ],
      "source": [
        "a = \"pass\"\n",
        "b = \"word\"\n",
        "\n",
        "print(a + b)"
      ]
    }
  ],
  "metadata": {
    "kernelspec": {
      "display_name": "Python 3",
      "language": "python",
      "name": "python3"
    },
    "language_info": {
      "codemirror_mode": {
        "name": "ipython",
        "version": 3
      },
      "file_extension": ".py",
      "mimetype": "text/x-python",
      "name": "python",
      "nbconvert_exporter": "python",
      "pygments_lexer": "ipython3",
      "version": "3.6.5"
    },
    "colab": {
      "name": "1 - seminar1.ipynb",
      "provenance": [],
      "collapsed_sections": []
    }
  },
  "nbformat": 4,
  "nbformat_minor": 0
}