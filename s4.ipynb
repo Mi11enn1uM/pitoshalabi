{
  "cells": [
    {
      "cell_type": "markdown",
      "metadata": {
        "id": "d7rv4HXKzgZp"
      },
      "source": [
        "## Основы программирования в Python\n",
        "\n",
        "*Алла Тамбовцева, НИУ ВШЭ*\n",
        "\n",
        "## Семинар 4"
      ]
    },
    {
      "cell_type": "markdown",
      "metadata": {
        "id": "rVT_EqF5zgZx"
      },
      "source": [
        "### Задача 1\n",
        "\n",
        "Напишите программу, которая просит пользователя ввести положительное число, и если пользователь вводит положительное число, выводит на экран сообщение \"Молодец!\", если нет ‒ \"Это не положительное число.\".\n",
        "\n",
        "Считайте, что пользователь в любом случае вводит числа, а не какой-то текст."
      ]
    },
    {
      "cell_type": "code",
      "source": [
        "N = float(input(\"Введите положительное число: \"))\n",
        "if N > 0:\n",
        "    print(\"Молодец!\")\n",
        "else:\n",
        "    print(\"Это не положительное число.\")"
      ],
      "metadata": {
        "id": "uiYDqEN41SeZ"
      },
      "execution_count": null,
      "outputs": []
    },
    {
      "cell_type": "markdown",
      "metadata": {
        "id": "wH3CsBsgzgZz"
      },
      "source": [
        "### Задача 2\n",
        "\n",
        "Напишите программу, которая принимает на вход список оценок студентов от 1 до 10, выводит на экран оценку, а после нее, с новой строки, комментарий \"Плохо\", \"Удовлетворительно\", \"Хорошо\", \"Отлично\" в зависимости от оценки."
      ]
    },
    {
      "cell_type": "code",
      "source": [
        "x = input('Введите Ваши оценки через пробел (пример: 1 5 7): ').split()\n",
        "x1 = []\n",
        "j=0\n",
        "for i in x:\n",
        "  x1.append(int(i))\n",
        "  print(x1[j])\n",
        "  if x1[j] < 5:\n",
        "    print('Плохо')\n",
        "  elif x1[j] < 7:\n",
        "    print('Удовлетворительно')\n",
        "  elif x1[j] < 9:\n",
        "    print('Хорошо')\n",
        "  else:\n",
        "    print('Отлично')\n",
        "  j=j+1\n"
      ],
      "metadata": {
        "id": "yeZnk4Kl4JrV"
      },
      "execution_count": null,
      "outputs": []
    },
    {
      "cell_type": "markdown",
      "metadata": {
        "id": "vjkTxMHOzgZ1"
      },
      "source": [
        "### Задача 3\n",
        "\n",
        "Напишите программу, которая запрашивает у пользователя пароль, и далее:\n",
        "\n",
        "- если пароль верный, выводит на экран сообщение \"Login success\".\n",
        "- если пароль неверный, выводит на экран сообщение \"Incorrect password, try again!\" до тех пор, пока пользователь не введет верный пароль."
      ]
    },
    {
      "cell_type": "code",
      "source": [
        "password = 'Тортик'\n",
        "a = input()\n",
        "while a != password:\n",
        "  print(\"Incorrect password, try again!\")\n",
        "  a = input()\n",
        "if a == password:\n",
        "    print(\"Login success\")"
      ],
      "metadata": {
        "id": "AjTmzPK60BNZ"
      },
      "execution_count": null,
      "outputs": []
    },
    {
      "cell_type": "markdown",
      "metadata": {
        "id": "R8eWNbWRzgZ2"
      },
      "source": [
        "### Задача 4\n",
        "\n",
        "У питона есть набор любимых чисел.\n",
        "\n",
        "    favorites = [3, 7, 11, 23, 18, 48, 81]\n",
        "\n",
        "Напишите программу, которая просит пользователя ввести целое число, и если оно нравится питону, на экран будет выводиться сообщение: \"Мое любимое число!\", если нет ‒ \"Эх, ну почему?\"."
      ]
    },
    {
      "cell_type": "code",
      "source": [
        "favorites = [3, 7, 11, 23, 18, 48, 81]\n",
        "Num = int(input(\"Введите целое число: \"))\n",
        "if Num in favorites:\n",
        "    print(\"Моё любимое число!\")\n",
        "else:\n",
        "    print(\"Эх, ну почему?\")"
      ],
      "metadata": {
        "colab": {
          "base_uri": "https://localhost:8080/"
        },
        "id": "x_UHqgJg0MZQ",
        "outputId": "c0d7f6fc-ce85-4329-c8fe-e31e79b1b498"
      },
      "execution_count": null,
      "outputs": [
        {
          "output_type": "stream",
          "name": "stdout",
          "text": [
            "Введите целое число: 7\n",
            "Моё любимое число!\n"
          ]
        }
      ]
    },
    {
      "cell_type": "markdown",
      "metadata": {
        "id": "AaUzEfGtzgZ3"
      },
      "source": [
        "### Задача 5\n",
        "\n",
        "Напишите программу, которая просит пользователя ввести число и, если оно чётное, выводит на экран сообщение: \"Это число чётное\", если нечётное ‒ \"Это число нечётное\"."
      ]
    },
    {
      "cell_type": "code",
      "source": [
        "a = int(input(\"Введите целое число: \"))\n",
        "if a % 2 == 1:\n",
        "    print(\"Это число нечётное\")\n",
        "else:\n",
        "    print(\"Это число чётное\")"
      ],
      "metadata": {
        "colab": {
          "base_uri": "https://localhost:8080/"
        },
        "id": "r6eXpgKM0_t1",
        "outputId": "f00a84b8-f4b3-44f7-a7d4-c68e66292e93"
      },
      "execution_count": null,
      "outputs": [
        {
          "output_type": "stream",
          "name": "stdout",
          "text": [
            "Введите целое число: 4\n",
            "Это число чётное\n"
          ]
        }
      ]
    },
    {
      "cell_type": "markdown",
      "metadata": {
        "id": "krQOFymLzgZ4"
      },
      "source": [
        "### Задача 6\n",
        "\n",
        "Напишите программу, которая просит пользователя ввести существительное, и если слово введено с большой буквы, то на экран выводится сообщение \"Это имя собственное.\", если с маленькой ‒ сообщение \"Это имя нарицательное\"."
      ]
    },
    {
      "cell_type": "code",
      "source": [
        "s = input(\"Введите существительное: \")\n",
        "if s.islower() == False:\n",
        "  print(\"Это имя собственное.\")\n",
        "else:\n",
        "  print(\"Это имя нарицательное.\")"
      ],
      "metadata": {
        "colab": {
          "base_uri": "https://localhost:8080/"
        },
        "id": "QvnqlAAUFQeI",
        "outputId": "7a196328-f533-4b7a-ba96-b705d1ddc4e4"
      },
      "execution_count": null,
      "outputs": [
        {
          "output_type": "stream",
          "name": "stdout",
          "text": [
            "Введите существительное: река\n",
            "Это имя нарицательное.\n"
          ]
        }
      ]
    }
  ],
  "metadata": {
    "kernelspec": {
      "display_name": "Python 3",
      "language": "python",
      "name": "python3"
    },
    "language_info": {
      "codemirror_mode": {
        "name": "ipython",
        "version": 3
      },
      "file_extension": ".py",
      "mimetype": "text/x-python",
      "name": "python",
      "nbconvert_exporter": "python",
      "pygments_lexer": "ipython3",
      "version": "3.6.5"
    },
    "colab": {
      "name": "legalova-sem4.ipynb",
      "provenance": [],
      "collapsed_sections": []
    }
  },
  "nbformat": 4,
  "nbformat_minor": 0
}